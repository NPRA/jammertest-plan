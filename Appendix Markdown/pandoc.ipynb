{
 "cells": [
  {
   "cell_type": "code",
   "execution_count": null,
   "id": "b37eceb1",
   "metadata": {},
   "outputs": [],
   "source": [
    "! pandoc -v"
   ]
  },
  {
   "cell_type": "code",
   "execution_count": null,
   "id": "57a19181",
   "metadata": {},
   "outputs": [],
   "source": [
    "%%cmd\n",
    "pandoc -t gfm --extract-media . \"Appendix G - Technical details on jammer equipment.docx\" -o Appendix_G_-_Technical_details_on_jammer_equipment.md"
   ]
  }
 ],
 "metadata": {
  "kernelspec": {
   "display_name": "Python 3",
   "language": "python",
   "name": "python3"
  },
  "language_info": {
   "codemirror_mode": {
    "name": "ipython",
    "version": 3
   },
   "file_extension": ".py",
   "mimetype": "text/x-python",
   "name": "python",
   "nbconvert_exporter": "python",
   "pygments_lexer": "ipython3",
   "version": "3.13.5"
  }
 },
 "nbformat": 4,
 "nbformat_minor": 5
}
